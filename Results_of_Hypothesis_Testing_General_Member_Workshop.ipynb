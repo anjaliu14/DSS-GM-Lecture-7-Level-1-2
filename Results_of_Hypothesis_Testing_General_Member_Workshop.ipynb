{
  "nbformat": 4,
  "nbformat_minor": 0,
  "metadata": {
    "colab": {
      "name": "Results of Hypothesis Testing General Member Workshop",
      "provenance": [],
      "collapsed_sections": [],
      "toc_visible": true
    },
    "kernelspec": {
      "name": "python3",
      "display_name": "Python 3"
    }
  },
  "cells": [
    {
      "cell_type": "markdown",
      "metadata": {
        "id": "5y-jKz6S7cLA",
        "colab_type": "text"
      },
      "source": [
        "# Hypothesis Testing Demonstration"
      ]
    },
    {
      "cell_type": "code",
      "metadata": {
        "id": "x8J9q0k7qww3",
        "colab_type": "code",
        "colab": {}
      },
      "source": [
        "import pandas as pd\n",
        "import numpy as np"
      ],
      "execution_count": 0,
      "outputs": []
    },
    {
      "cell_type": "markdown",
      "metadata": {
        "id": "9GBSUw3TXHPu",
        "colab_type": "text"
      },
      "source": [
        "Our dataset comes from Kaggle and contains information about the student, including their identity, education level, and test scores. Let's load it in using pandas and display the first couple of rows. "
      ]
    },
    {
      "cell_type": "code",
      "metadata": {
        "id": "R-As6LEwxeO3",
        "colab_type": "code",
        "outputId": "e75293cd-f610-4bc9-b1f5-0370354e3b4e",
        "colab": {
          "base_uri": "https://localhost:8080/",
          "height": 221
        }
      },
      "source": [
        "scores = pd.read_csv(\"StudentsPerformance.csv\")\n",
        "scores.head(5)\n"
      ],
      "execution_count": 10,
      "outputs": [
        {
          "output_type": "execute_result",
          "data": {
            "text/html": [
              "<div>\n",
              "<style scoped>\n",
              "    .dataframe tbody tr th:only-of-type {\n",
              "        vertical-align: middle;\n",
              "    }\n",
              "\n",
              "    .dataframe tbody tr th {\n",
              "        vertical-align: top;\n",
              "    }\n",
              "\n",
              "    .dataframe thead th {\n",
              "        text-align: right;\n",
              "    }\n",
              "</style>\n",
              "<table border=\"1\" class=\"dataframe\">\n",
              "  <thead>\n",
              "    <tr style=\"text-align: right;\">\n",
              "      <th></th>\n",
              "      <th>gender</th>\n",
              "      <th>race/ethnicity</th>\n",
              "      <th>parental level of education</th>\n",
              "      <th>lunch</th>\n",
              "      <th>test preparation course</th>\n",
              "      <th>math score</th>\n",
              "      <th>reading score</th>\n",
              "      <th>writing score</th>\n",
              "    </tr>\n",
              "  </thead>\n",
              "  <tbody>\n",
              "    <tr>\n",
              "      <th>0</th>\n",
              "      <td>female</td>\n",
              "      <td>group B</td>\n",
              "      <td>bachelor's degree</td>\n",
              "      <td>standard</td>\n",
              "      <td>none</td>\n",
              "      <td>72</td>\n",
              "      <td>72</td>\n",
              "      <td>74</td>\n",
              "    </tr>\n",
              "    <tr>\n",
              "      <th>1</th>\n",
              "      <td>female</td>\n",
              "      <td>group C</td>\n",
              "      <td>some college</td>\n",
              "      <td>standard</td>\n",
              "      <td>completed</td>\n",
              "      <td>69</td>\n",
              "      <td>90</td>\n",
              "      <td>88</td>\n",
              "    </tr>\n",
              "    <tr>\n",
              "      <th>2</th>\n",
              "      <td>female</td>\n",
              "      <td>group B</td>\n",
              "      <td>master's degree</td>\n",
              "      <td>standard</td>\n",
              "      <td>none</td>\n",
              "      <td>90</td>\n",
              "      <td>95</td>\n",
              "      <td>93</td>\n",
              "    </tr>\n",
              "    <tr>\n",
              "      <th>3</th>\n",
              "      <td>male</td>\n",
              "      <td>group A</td>\n",
              "      <td>associate's degree</td>\n",
              "      <td>free/reduced</td>\n",
              "      <td>none</td>\n",
              "      <td>47</td>\n",
              "      <td>57</td>\n",
              "      <td>44</td>\n",
              "    </tr>\n",
              "    <tr>\n",
              "      <th>4</th>\n",
              "      <td>male</td>\n",
              "      <td>group C</td>\n",
              "      <td>some college</td>\n",
              "      <td>standard</td>\n",
              "      <td>none</td>\n",
              "      <td>76</td>\n",
              "      <td>78</td>\n",
              "      <td>75</td>\n",
              "    </tr>\n",
              "  </tbody>\n",
              "</table>\n",
              "</div>"
            ],
            "text/plain": [
              "   gender race/ethnicity  ... reading score writing score\n",
              "0  female        group B  ...            72            74\n",
              "1  female        group C  ...            90            88\n",
              "2  female        group B  ...            95            93\n",
              "3    male        group A  ...            57            44\n",
              "4    male        group C  ...            78            75\n",
              "\n",
              "[5 rows x 8 columns]"
            ]
          },
          "metadata": {
            "tags": []
          },
          "execution_count": 10
        }
      ]
    },
    {
      "cell_type": "markdown",
      "metadata": {
        "id": "O2QEQXFAbX5I",
        "colab_type": "text"
      },
      "source": [
        "The test statistic we will use is the observed difference between the means of reading scores between test takers and non-test takers. (for more context and p-value interepretation, refer to notebook from last week's general member lecture)"
      ]
    },
    {
      "cell_type": "markdown",
      "metadata": {
        "id": "7xC6vAM2bxhD",
        "colab_type": "text"
      },
      "source": [
        "## Bootstrapping and Confidence Intervals"
      ]
    },
    {
      "cell_type": "markdown",
      "metadata": {
        "id": "qWIiwK-enReo",
        "colab_type": "text"
      },
      "source": [
        "We now should compute a confidence interval in order to provide an interval of estimates for our population parameter. We want to estimate the differences of means of the reading scores for those who did and didn't do test preparation."
      ]
    },
    {
      "cell_type": "markdown",
      "metadata": {
        "id": "tHdYGa-en6oG",
        "colab_type": "text"
      },
      "source": [
        "We may use the bootstrap sampling distribution to create a confidence interval which we use to estimate the value of the population parameter. We treat our original data as the bootstrap population to perform the bootstrap procedure:\n",
        "\n",
        "1) Draw a sample with replacement from the test prep students and calculate the mean reading score for these students. We also draw a sample with replacement from the non-test prep students and calculate the mean reading score.\n",
        "\n",
        "2) Calculate the difference in means.\n",
        "\n",
        "3) Repeat the above process 10000 times, obtaining 10000 mean differences.\n",
        "\n",
        "This procedure gives us a empirical sampling distribution of differences in mean reading scores."
      ]
    },
    {
      "cell_type": "code",
      "metadata": {
        "id": "iDpIDGCz9dfD",
        "colab_type": "code",
        "colab": {}
      },
      "source": [
        "def resample(sample):\n",
        "    return np.random.choice(sample, size=len(sample))\n",
        "\n",
        "def bootstrap(sample, stat, replicates):\n",
        "    return np.array([\n",
        "        stat(resample(sample)) for _ in range(replicates)\n",
        "    ])"
      ],
      "execution_count": 0,
      "outputs": []
    },
    {
      "cell_type": "code",
      "metadata": {
        "id": "rhXnizGK9zJ6",
        "colab_type": "code",
        "colab": {}
      },
      "source": [
        "completed_scores = scores[scores['test preparation course'] == 'completed']['reading score']\n",
        "not_completed_scores = scores[scores['test preparation course'] == 'none']['reading score']\n",
        "\n",
        "completed_means = bootstrap(completed_scores, np.mean, 10000)\n",
        "non_completed_means = bootstrap(not_completed_scores, np.mean, 10000)\n",
        "\n",
        "bootstrap_differences = completed_means - non_completed_means\n",
        "\n"
      ],
      "execution_count": 0,
      "outputs": []
    },
    {
      "cell_type": "markdown",
      "metadata": {
        "id": "vRxIdRRKobKP",
        "colab_type": "text"
      },
      "source": [
        "Here's a histogram of the empirical distribution of the difference in means:"
      ]
    },
    {
      "cell_type": "code",
      "metadata": {
        "id": "uluvKNqx-IYz",
        "colab_type": "code",
        "outputId": "df1b1c30-7060-42c6-d043-61d72819e68b",
        "colab": {
          "base_uri": "https://localhost:8080/",
          "height": 282
        }
      },
      "source": [
        "sns.distplot(bootstrap_differences)"
      ],
      "execution_count": 13,
      "outputs": [
        {
          "output_type": "execute_result",
          "data": {
            "text/plain": [
              "<matplotlib.axes._subplots.AxesSubplot at 0x7f563e5382e8>"
            ]
          },
          "metadata": {
            "tags": []
          },
          "execution_count": 13
        },
        {
          "output_type": "display_data",
          "data": {
            "image/png": "[encoded data removed]",
            "text/plain": [
              "<Figure size 432x288 with 1 Axes>"
            ]
          },
          "metadata": {
            "tags": []
          }
        }
      ]
    },
    {
      "cell_type": "code",
      "metadata": {
        "id": "P2-qke33-iyS",
        "colab_type": "code",
        "outputId": "ca0c6523-5672-4e9d-98cf-0b1aa6088859",
        "colab": {
          "base_uri": "https://localhost:8080/",
          "height": 34
        }
      },
      "source": [
        "# Construct 95% confidence interval from bootstrapping\n",
        "(np.percentile(bootstrap_differences, 2.5), \n",
        " np.percentile(bootstrap_differences, 97.5))"
      ],
      "execution_count": 14,
      "outputs": [
        {
          "output_type": "execute_result",
          "data": {
            "text/plain": [
              "(5.539214700917181, 9.124600584764789)"
            ]
          },
          "metadata": {
            "tags": []
          },
          "execution_count": 14
        }
      ]
    },
    {
      "cell_type": "markdown",
      "metadata": {
        "id": "s1lyEWMgorDr",
        "colab_type": "text"
      },
      "source": [
        "This confidence interval allows us to state with 95% confidence that the population mean difference in reading scores is between 5.54 and 9.11."
      ]
    },
    {
      "cell_type": "markdown",
      "metadata": {
        "id": "LRN9c4Uvo7Pb",
        "colab_type": "text"
      },
      "source": [
        "And that concludes our introductory workshop on hypothesis testing! Hope you find this useful in your projects and in the near future! Happy coding :)"
      ]
    }
  ]
}